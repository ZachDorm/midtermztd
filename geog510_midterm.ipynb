{
  "cells": [
    {
      "cell_type": "markdown",
      "metadata": {
        "id": "view-in-github",
        "colab_type": "text"
      },
      "source": [
        "<a href=\"https://colab.research.google.com/github/ZachDorm/midtermztd/blob/main/geog510_midterm.ipynb\" target=\"_parent\"><img src=\"https://colab.research.google.com/assets/colab-badge.svg\" alt=\"Open In Colab\"/></a>"
      ]
    },
    {
      "cell_type": "markdown",
      "id": "ccc39dc4-617c-4e04-90b6-7560272136e4",
      "metadata": {
        "id": "ccc39dc4-617c-4e04-90b6-7560272136e4"
      },
      "source": [
        "# GEOG 422/510 Midterm Exam\n",
        "\n",
        "[![image](https://colab.research.google.com/assets/colab-badge.svg)](https://gishub.org/510-midterm)\n",
        "\n",
        "**Firstname Lastname**\n",
        "\n",
        "150 points in total (30 points each question). You have 75 minutes to complete the exam.\n",
        "\n",
        "\n",
        "**Submission instructions**\n",
        "\n",
        "Your submission should contain four hyperlinks as follows:\n",
        "\n",
        "- GitHub: https://github.com/giswqs/geosdemo\n",
        "- PyPI: https://pypi.org/project/geosdemo\n",
        "- Docs: https://giswqs.github.io/geosdemo \n",
        "- Notebook: https://github.com/giswqs/geosdemo/blob/master/docs/labs/midterm.ipynb\n",
        "\n",
        "Before submission, restart kernel and run all cells."
      ]
    },
    {
      "cell_type": "code",
      "execution_count": null,
      "id": "03c56513-daab-414e-9947-e88cf56afb24",
      "metadata": {
        "id": "03c56513-daab-414e-9947-e88cf56afb24"
      },
      "outputs": [],
      "source": [
        "from datetime import datetime\n",
        "\n",
        "now = datetime.now()\n",
        "print(f\"Submitted time: {now}\")"
      ]
    },
    {
      "cell_type": "markdown",
      "id": "949a0196",
      "metadata": {
        "id": "949a0196"
      },
      "source": [
        "## Question 1\n",
        "\n",
        "Create a new Python package and publish it on GitHub and PyPI. Do NOT use any packages that you created for previous assignments. The package must have GitHub Actions enabled, which allows you to automatically upload new releases from GitHub to PyPI. The package must also have the documentation website up and running. Complete the four questions below on this notebook and add the notebook to your GitHub repo for this new package. Add an `Open In Colab` badge to the notebook. Upon completion, you should have four hyperlinks to your GitHub repo, PyPI, documentation website, and the notebook. \n",
        "\n",
        "- GitHub: https://github.com/giswqs/geosdemo\n",
        "- PyPI: https://pypi.org/project/geosdemo\n",
        "- Docs: https://giswqs.github.io/geosdemo \n",
        "- Notebook: https://github.com/giswqs/geosdemo/blob/master/docs/labs/midterm.ipynb"
      ]
    },
    {
      "cell_type": "markdown",
      "id": "90210396-a683-4891-9dee-328f1bd98f00",
      "metadata": {
        "id": "90210396-a683-4891-9dee-328f1bd98f00"
      },
      "source": [
        "Your answers:\n",
        "- GitHub: \n",
        "- PyPI: \n",
        "- Docs: \n",
        "- Notebook:"
      ]
    },
    {
      "cell_type": "markdown",
      "id": "d5c26851-64ab-4957-8d24-affa0af5c39e",
      "metadata": {
        "id": "d5c26851-64ab-4957-8d24-affa0af5c39e"
      },
      "source": [
        "## Question 2\n",
        "**Ordinal numbers**: Ordinal numbers indicate their position in a list, such as 1st or 2nd. Most ordinal numbers end in *th*, except 1, 2, and 3. Write a program that repeatedly prompts a user for a number and prints out its corresponding ordinal number. Your program must be able to handle any integer, not just numbers between 1 and 10. If the user enters an invalid number, the program should prompt users to enter a valid number. When the user enters `quit`, the program stops. \n",
        "\n",
        "Sample output:\n",
        "\n",
        "```text\n",
        "Enter a number (enter 'quit' to exit):  1\n",
        "The ordinal number of 1 is: 1st\n",
        "Enter a number (enter 'quit' to exit):  2\n",
        "The ordinal number of 2 is: 2nd\n",
        "Enter a number (enter 'quit' to exit):  3\n",
        "The ordinal number of 3 is: 3rd\n",
        "Enter a number (enter 'quit' to exit):  5\n",
        "The ordinal number of 5 is: 5th\n",
        "Enter a number (enter 'quit' to exit):  11\n",
        "The ordinal number of 11 is: 11th\n",
        "Enter a number (enter 'quit' to exit):  12\n",
        "The ordinal number of 12 is: 12th\n",
        "Enter a number (enter 'quit' to exit):  13\n",
        "The ordinal number of 13 is: 13th\n",
        "Enter a number (enter 'quit' to exit):  21\n",
        "The ordinal number of 21 is: 21st\n",
        "Enter a number (enter 'quit' to exit):  22\n",
        "The ordinal number of 22 is: 22nd\n",
        "Enter a number (enter 'quit' to exit):  23\n",
        "The ordinal number of 23 is: 23rd\n",
        "Enter a number (enter 'quit' to exit):  99\n",
        "The ordinal number of 99 is: 99th\n",
        "Enter a number (enter 'quit' to exit):  101\n",
        "The ordinal number of 101 is: 101st\n",
        "Enter a number (enter 'quit' to exit):  hello\n",
        "hello is an invalid number. Please enter an integer number!\n",
        "Enter a number (enter 'quit' to exit):  haha\n",
        "haha is an invalid number. Please enter an integer number!\n",
        "Enter a number (enter 'quit' to exit):  quit\n",
        "```"
      ]
    },
    {
      "cell_type": "code",
      "execution_count": 35,
      "id": "054c7bf4-e64c-4a5b-84d1-530d0e4ce0f5",
      "metadata": {
        "id": "054c7bf4-e64c-4a5b-84d1-530d0e4ce0f5",
        "outputId": "559eb88a-0bcf-413d-98b5-4af01a83cac2",
        "colab": {
          "base_uri": "https://localhost:8080/",
          "height": 416
        }
      },
      "outputs": [
        {
          "output_type": "stream",
          "name": "stdout",
          "text": [
            "Please enter a number. Enter \"quit\" when done.haha\n",
            "This is not a number.\n"
          ]
        },
        {
          "output_type": "error",
          "ename": "KeyboardInterrupt",
          "evalue": "ignored",
          "traceback": [
            "\u001b[0;31m---------------------------------------------------------------------------\u001b[0m",
            "\u001b[0;31mKeyboardInterrupt\u001b[0m                         Traceback (most recent call last)",
            "\u001b[0;32m<ipython-input-35-d02ea2da5b74>\u001b[0m in \u001b[0;36m<module>\u001b[0;34m\u001b[0m\n\u001b[1;32m      2\u001b[0m \u001b[0;34m\u001b[0m\u001b[0m\n\u001b[1;32m      3\u001b[0m \u001b[0;32mwhile\u001b[0m\u001b[0;34m(\u001b[0m\u001b[0mcond\u001b[0m\u001b[0;34m)\u001b[0m\u001b[0;34m:\u001b[0m\u001b[0;34m\u001b[0m\u001b[0;34m\u001b[0m\u001b[0m\n\u001b[0;32m----> 4\u001b[0;31m   \u001b[0mresponse\u001b[0m \u001b[0;34m=\u001b[0m \u001b[0minput\u001b[0m\u001b[0;34m(\u001b[0m\u001b[0;34m\"Please enter a number. Enter \\\"quit\\\" when done.\"\u001b[0m\u001b[0;34m)\u001b[0m\u001b[0;34m\u001b[0m\u001b[0;34m\u001b[0m\u001b[0m\n\u001b[0m\u001b[1;32m      5\u001b[0m \u001b[0;34m\u001b[0m\u001b[0m\n\u001b[1;32m      6\u001b[0m   \u001b[0;32mif\u001b[0m\u001b[0;34m(\u001b[0m\u001b[0mresponse\u001b[0m\u001b[0;34m==\u001b[0m\u001b[0;34m\"quit\"\u001b[0m\u001b[0;34m)\u001b[0m\u001b[0;34m:\u001b[0m\u001b[0;34m\u001b[0m\u001b[0;34m\u001b[0m\u001b[0m\n",
            "\u001b[0;32m/usr/local/lib/python3.9/dist-packages/ipykernel/kernelbase.py\u001b[0m in \u001b[0;36mraw_input\u001b[0;34m(self, prompt)\u001b[0m\n\u001b[1;32m    858\u001b[0m                 \u001b[0;34m\"raw_input was called, but this frontend does not support input requests.\"\u001b[0m\u001b[0;34m\u001b[0m\u001b[0;34m\u001b[0m\u001b[0m\n\u001b[1;32m    859\u001b[0m             )\n\u001b[0;32m--> 860\u001b[0;31m         return self._input_request(str(prompt),\n\u001b[0m\u001b[1;32m    861\u001b[0m             \u001b[0mself\u001b[0m\u001b[0;34m.\u001b[0m\u001b[0m_parent_ident\u001b[0m\u001b[0;34m,\u001b[0m\u001b[0;34m\u001b[0m\u001b[0;34m\u001b[0m\u001b[0m\n\u001b[1;32m    862\u001b[0m             \u001b[0mself\u001b[0m\u001b[0;34m.\u001b[0m\u001b[0m_parent_header\u001b[0m\u001b[0;34m,\u001b[0m\u001b[0;34m\u001b[0m\u001b[0;34m\u001b[0m\u001b[0m\n",
            "\u001b[0;32m/usr/local/lib/python3.9/dist-packages/ipykernel/kernelbase.py\u001b[0m in \u001b[0;36m_input_request\u001b[0;34m(self, prompt, ident, parent, password)\u001b[0m\n\u001b[1;32m    902\u001b[0m             \u001b[0;32mexcept\u001b[0m \u001b[0mKeyboardInterrupt\u001b[0m\u001b[0;34m:\u001b[0m\u001b[0;34m\u001b[0m\u001b[0;34m\u001b[0m\u001b[0m\n\u001b[1;32m    903\u001b[0m                 \u001b[0;31m# re-raise KeyboardInterrupt, to truncate traceback\u001b[0m\u001b[0;34m\u001b[0m\u001b[0;34m\u001b[0m\u001b[0m\n\u001b[0;32m--> 904\u001b[0;31m                 \u001b[0;32mraise\u001b[0m \u001b[0mKeyboardInterrupt\u001b[0m\u001b[0;34m(\u001b[0m\u001b[0;34m\"Interrupted by user\"\u001b[0m\u001b[0;34m)\u001b[0m \u001b[0;32mfrom\u001b[0m \u001b[0;32mNone\u001b[0m\u001b[0;34m\u001b[0m\u001b[0;34m\u001b[0m\u001b[0m\n\u001b[0m\u001b[1;32m    905\u001b[0m             \u001b[0;32mexcept\u001b[0m \u001b[0mException\u001b[0m \u001b[0;32mas\u001b[0m \u001b[0me\u001b[0m\u001b[0;34m:\u001b[0m\u001b[0;34m\u001b[0m\u001b[0;34m\u001b[0m\u001b[0m\n\u001b[1;32m    906\u001b[0m                 \u001b[0mself\u001b[0m\u001b[0;34m.\u001b[0m\u001b[0mlog\u001b[0m\u001b[0;34m.\u001b[0m\u001b[0mwarning\u001b[0m\u001b[0;34m(\u001b[0m\u001b[0;34m\"Invalid Message:\"\u001b[0m\u001b[0;34m,\u001b[0m \u001b[0mexc_info\u001b[0m\u001b[0;34m=\u001b[0m\u001b[0;32mTrue\u001b[0m\u001b[0;34m)\u001b[0m\u001b[0;34m\u001b[0m\u001b[0;34m\u001b[0m\u001b[0m\n",
            "\u001b[0;31mKeyboardInterrupt\u001b[0m: Interrupted by user"
          ]
        }
      ],
      "source": [
        "cond = True\n",
        "\n",
        "while(cond):\n",
        "  response = input(\"Please enter a number. Enter \\\"quit\\\" when done.\")\n",
        "\n",
        "  if(response==\"quit\"):\n",
        "    break\n",
        "\n",
        "  try:\n",
        "    int(response)/2\n",
        "\n",
        "    if(int(response) ==1):\n",
        "      print(\"1st\")\n",
        "\n",
        "    elif(int(response) == 2):\n",
        "      print(\"2nd\")\n",
        "\n",
        "    elif(int(response) == 3):\n",
        "      print(\"3rd\")\n",
        "\n",
        "    else:\n",
        "      print(response, \"th\", sep=\"\")\n",
        "\n",
        "  except:\n",
        "    print(\"This is not a number.\")"
      ]
    },
    {
      "cell_type": "markdown",
      "id": "3e211adf-8d3f-4323-b9ea-35809bb12e66",
      "metadata": {
        "id": "3e211adf-8d3f-4323-b9ea-35809bb12e66"
      },
      "source": [
        "## Question 3\n",
        "**Compute median:** Write a program that repeatedly prompts a user for numbers until the user enters `quit`. Once `quit` is entered, print out the median value of the numbers. If the user enters anything other than a valid number put out an appropriate message and ignore the number.\n",
        "\n",
        "Sample output:\n",
        "```text\n",
        "Enter a number (enter 'quit' to exit):  7\n",
        "Enter a number (enter 'quit' to exit):  8\n",
        "Enter a number (enter 'quit' to exit):  9\n",
        "Enter a number (enter 'quit' to exit):  haha\n",
        "Invalid input. Please enter a valid number.\n",
        "Enter a number (enter 'quit' to exit):  10\n",
        "Enter a number (enter 'quit' to exit):  quit\n",
        "The median value of the numbers [7.0, 8.0, 9.0, 10.0] is 8.5.\n",
        "```"
      ]
    },
    {
      "cell_type": "code",
      "execution_count": 43,
      "id": "f748d68f-4ab9-46ea-a63c-34fc64ed55a2",
      "metadata": {
        "id": "f748d68f-4ab9-46ea-a63c-34fc64ed55a2",
        "outputId": "2e950ab8-9969-41d9-9b27-51f593ed5ffe",
        "colab": {
          "base_uri": "https://localhost:8080/"
        }
      },
      "outputs": [
        {
          "output_type": "stream",
          "name": "stdout",
          "text": [
            "Please enter numbers you would like to find the median of. Enter \"quit\" when done.2\n",
            "Please enter numbers you would like to find the median of. Enter \"quit\" when done.3\n",
            "Please enter numbers you would like to find the median of. Enter \"quit\" when done.4\n",
            "Please enter numbers you would like to find the median of. Enter \"quit\" when done.5\n",
            "Please enter numbers you would like to find the median of. Enter \"quit\" when done.quit\n",
            "The median value of the numbers  [2, 3, 4, 5]  is  4\n"
          ]
        }
      ],
      "source": [
        "number = []\n",
        "cond = True\n",
        "\n",
        "while(cond):\n",
        "  response = input(\"Please enter numbers you would like to find the median of. Enter \\\"quit\\\" when done.\")\n",
        "\n",
        "  if(response==\"quit\"):\n",
        "    break\n",
        "\n",
        "  try:\n",
        "    int(response)/2\n",
        "    number.append(int(response))\n",
        "\n",
        "  except:\n",
        "    print(\"This is not a number.\")\n",
        "\n",
        "\n",
        "if(len(number)/2!=0):\n",
        "  print(\"The median value of the numbers \", number, \" is \", number[round((len(number)-1)/2)])\n",
        "\n",
        "else:\n",
        "  med = float(number[(len(number)/2)-1] + number[len(number)/2])/2.0\n",
        "  print(\"The median value of the numbers \", number, \" is \", med)\n"
      ]
    },
    {
      "cell_type": "markdown",
      "id": "e20f5fbb-f164-44b2-808a-fd815f0b8ed8",
      "metadata": {
        "id": "e20f5fbb-f164-44b2-808a-fd815f0b8ed8"
      },
      "source": [
        "## Question 4\n",
        "**Count Words:** Based on the text file [A-Tale-of-Two-Cities.txt](https://raw.githubusercontent.com/giswqs/geosdemo/master/docs/python/data/A-Tale-of-Two-Cities.txt), write a program that repeatly prompts a user to enter a word or phrase and finds out how many times it appears in the text file. When a user enters `quit`, the program stops. \n",
        "\n",
        "Sample output:\n",
        "```text\n",
        "Enter a word or phrase to search for (enter 'quit' to exit):  the\n",
        "'the' appears 10694 times in the file.\n",
        "Enter a word or phrase to search for (enter 'quit' to exit):  season\n",
        "'season' appears 8 times in the file.\n",
        "Enter a word or phrase to search for (enter 'quit' to exit):  country\n",
        "'country' appears 42 times in the file.\n",
        "Enter a word or phrase to search for (enter 'quit' to exit):  hello\n",
        "'hello' appears 0 times in the file.\n",
        "Enter a word or phrase to search for (enter 'quit' to exit):  love\n",
        "'love' appears 77 times in the file.\n",
        "Enter a word or phrase to search for (enter 'quit' to exit):  quit\n",
        "```"
      ]
    },
    {
      "cell_type": "code",
      "execution_count": null,
      "id": "22a29906",
      "metadata": {
        "id": "22a29906"
      },
      "outputs": [],
      "source": [
        "pip install leafmap\n",
        "import leafmap\n",
        "leafmap.download_file(\"https://raw.githubusercontent.com/giswqs/geosdemo/master/docs/python/data/A-Tale-of-Two-Cities.txt\")"
      ]
    },
    {
      "cell_type": "code",
      "execution_count": 7,
      "id": "9df4cbfd",
      "metadata": {
        "id": "9df4cbfd",
        "outputId": "53cda9ce-4545-40b0-da5c-b908d810f357",
        "colab": {
          "base_uri": "https://localhost:8080/"
        }
      },
      "outputs": [
        {
          "name": "stdout",
          "output_type": "stream",
          "text": [
            "Please enter a word or phrase you would like to learn how many times it occurs. \n",
            "it was the\n"
          ]
        }
      ],
      "source": [
        "word = input(\"Please enter a word or phrase you would like to learn how many times it occurs. \\n\")"
      ]
    },
    {
      "cell_type": "code",
      "execution_count": 8,
      "id": "5ea38f4f-6bdb-4d3a-af10-8600088167f2",
      "metadata": {
        "id": "5ea38f4f-6bdb-4d3a-af10-8600088167f2",
        "outputId": "3e6e27c7-bf19-4fa5-f581-b4a76cc86d1d",
        "colab": {
          "base_uri": "https://localhost:8080/"
        }
      },
      "outputs": [
        {
          "output_type": "stream",
          "name": "stdout",
          "text": [
            "20\n"
          ]
        }
      ],
      "source": [
        "with open(\"/content/A-Tale-of-Two-Cities.txt\") as file_object:\n",
        "  f = file_object.read()\n",
        "  word_lower = word.lower()\n",
        "\n",
        "  print(f.count(word_lower))\n"
      ]
    },
    {
      "cell_type": "markdown",
      "id": "7c064842",
      "metadata": {
        "id": "7c064842"
      },
      "source": [
        "## Question 5\n",
        "\n",
        "Write a program that counts the number of unique words in a text file. The program should repeatedly prompt a user to enter a file name and print out the number of unique words in the file. When a user enters `quit`, the program stops. If the input file does not exist, the program should print out an error message and prompt users to enter a valid filename.\n",
        "\n",
        "Some sample text files are available at:\n",
        "- [A-Tale-of-Two-Cities.txt](https://raw.githubusercontent.com/giswqs/geosdemo/master/docs/python/data/A-Tale-of-Two-Cities.txt)\n",
        "- [little_women.txt](https://raw.githubusercontent.com/giswqs/geosdemo/master/docs/python/data/little_women.txt)\n",
        "- [alice.txt](https://raw.githubusercontent.com/giswqs/geosdemo/master/docs/python/data/alice.txt)\n",
        "\n",
        "Sample output:\n",
        "```text\n",
        "Enter the filename:  A-Tale-of-Two-Cities.txt\n",
        "There are 19666 unique words in the file A-Tale-of-Two-Cities.txt\n",
        "Enter the filename:  little_women.txt\n",
        "There are 21050 unique words in the file little_women.txt\n",
        "Enter the filename:  alice.txt\n",
        "There are 6018 unique words in the file alice.txt\n",
        "Enter the filename:  hello_world.txt\n",
        "File 'hello_world.txt' not found. Please enter a valid filename.\n",
        "Enter the filename:  serious.txt\n",
        "File 'serious.txt' not found. Please enter a valid filename.\n",
        "Enter the filename:  I am done\n",
        "File 'I am done' not found. Please enter a valid filename.\n",
        "Enter the filename:  quit\n",
        "```"
      ]
    },
    {
      "cell_type": "code",
      "execution_count": 2,
      "id": "a664f044",
      "metadata": {
        "id": "a664f044",
        "outputId": "f5b42a77-c889-4141-df74-0ebe3bccef31",
        "colab": {
          "base_uri": "https://localhost:8080/"
        }
      },
      "outputs": [
        {
          "output_type": "stream",
          "name": "stdout",
          "text": [
            "Looking in indexes: https://pypi.org/simple, https://us-python.pkg.dev/colab-wheels/public/simple/\n",
            "Collecting leafmap\n",
            "  Downloading leafmap-0.18.6-py2.py3-none-any.whl (212 kB)\n",
            "\u001b[2K     \u001b[90m━━━━━━━━━━━━━━━━━━━━━━━━━━━━━━━━━━━━━━━\u001b[0m \u001b[32m212.5/212.5 KB\u001b[0m \u001b[31m4.9 MB/s\u001b[0m eta \u001b[36m0:00:00\u001b[0m\n",
            "\u001b[?25hRequirement already satisfied: gdown in /usr/local/lib/python3.9/dist-packages (from leafmap) (4.6.4)\n",
            "Collecting scooby\n",
            "  Downloading scooby-0.7.1-py3-none-any.whl (16 kB)\n",
            "Requirement already satisfied: ipywidgets<8.0.0 in /usr/local/lib/python3.9/dist-packages (from leafmap) (7.7.1)\n",
            "Requirement already satisfied: matplotlib in /usr/local/lib/python3.9/dist-packages (from leafmap) (3.7.1)\n",
            "Collecting xyzservices\n",
            "  Downloading xyzservices-2023.2.0-py3-none-any.whl (55 kB)\n",
            "\u001b[2K     \u001b[90m━━━━━━━━━━━━━━━━━━━━━━━━━━━━━━━━━━━━━━━━\u001b[0m \u001b[32m55.4/55.4 KB\u001b[0m \u001b[31m5.3 MB/s\u001b[0m eta \u001b[36m0:00:00\u001b[0m\n",
            "\u001b[?25hCollecting bqplot\n",
            "  Downloading bqplot-0.12.36-py2.py3-none-any.whl (1.2 MB)\n",
            "\u001b[2K     \u001b[90m━━━━━━━━━━━━━━━━━━━━━━━━━━━━━━━━━━━━━━━━\u001b[0m \u001b[32m1.2/1.2 MB\u001b[0m \u001b[31m25.0 MB/s\u001b[0m eta \u001b[36m0:00:00\u001b[0m\n",
            "\u001b[?25hCollecting folium<=0.13.0,>=0.11.0\n",
            "  Downloading folium-0.13.0-py2.py3-none-any.whl (96 kB)\n",
            "\u001b[2K     \u001b[90m━━━━━━━━━━━━━━━━━━━━━━━━━━━━━━━━━━━━━━━━\u001b[0m \u001b[32m96.5/96.5 KB\u001b[0m \u001b[31m7.7 MB/s\u001b[0m eta \u001b[36m0:00:00\u001b[0m\n",
            "\u001b[?25hRequirement already satisfied: numpy in /usr/local/lib/python3.9/dist-packages (from leafmap) (1.22.4)\n",
            "Collecting ipyfilechooser>=0.6.0\n",
            "  Downloading ipyfilechooser-0.6.0-py3-none-any.whl (11 kB)\n",
            "Collecting python-box\n",
            "  Downloading python_box-7.0.1-cp39-cp39-manylinux_2_5_x86_64.manylinux1_x86_64.manylinux_2_12_x86_64.manylinux2010_x86_64.whl (3.2 MB)\n",
            "\u001b[2K     \u001b[90m━━━━━━━━━━━━━━━━━━━━━━━━━━━━━━━━━━━━━━━━\u001b[0m \u001b[32m3.2/3.2 MB\u001b[0m \u001b[31m56.3 MB/s\u001b[0m eta \u001b[36m0:00:00\u001b[0m\n",
            "\u001b[?25hCollecting ipyevents\n",
            "  Downloading ipyevents-2.0.1-py2.py3-none-any.whl (130 kB)\n",
            "\u001b[2K     \u001b[90m━━━━━━━━━━━━━━━━━━━━━━━━━━━━━━━━━━━━━━\u001b[0m \u001b[32m130.5/130.5 KB\u001b[0m \u001b[31m13.2 MB/s\u001b[0m eta \u001b[36m0:00:00\u001b[0m\n",
            "\u001b[?25hCollecting geojson\n",
            "  Downloading geojson-3.0.1-py3-none-any.whl (15 kB)\n",
            "Requirement already satisfied: ipykernel in /usr/local/lib/python3.9/dist-packages (from leafmap) (5.3.4)\n",
            "Collecting whiteboxgui>=0.6.0\n",
            "  Downloading whiteboxgui-2.2.0-py2.py3-none-any.whl (99 kB)\n",
            "\u001b[2K     \u001b[90m━━━━━━━━━━━━━━━━━━━━━━━━━━━━━━━━━━━━━━━━\u001b[0m \u001b[32m99.6/99.6 KB\u001b[0m \u001b[31m9.2 MB/s\u001b[0m eta \u001b[36m0:00:00\u001b[0m\n",
            "\u001b[?25hCollecting colour\n",
            "  Downloading colour-0.1.5-py2.py3-none-any.whl (23 kB)\n",
            "Collecting ipyleaflet>=0.17.0\n",
            "  Downloading ipyleaflet-0.17.2-py3-none-any.whl (3.7 MB)\n",
            "\u001b[2K     \u001b[90m━━━━━━━━━━━━━━━━━━━━━━━━━━━━━━━━━━━━━━━━\u001b[0m \u001b[32m3.7/3.7 MB\u001b[0m \u001b[31m50.2 MB/s\u001b[0m eta \u001b[36m0:00:00\u001b[0m\n",
            "\u001b[?25hCollecting pystac-client\n",
            "  Downloading pystac_client-0.6.1-py3-none-any.whl (30 kB)\n",
            "Collecting pyshp>=2.1.3\n",
            "  Downloading pyshp-2.3.1-py2.py3-none-any.whl (46 kB)\n",
            "\u001b[2K     \u001b[90m━━━━━━━━━━━━━━━━━━━━━━━━━━━━━━━━━━━━━━━━\u001b[0m \u001b[32m46.5/46.5 KB\u001b[0m \u001b[31m2.9 MB/s\u001b[0m eta \u001b[36m0:00:00\u001b[0m\n",
            "\u001b[?25hRequirement already satisfied: pandas in /usr/local/lib/python3.9/dist-packages (from leafmap) (1.4.4)\n",
            "Requirement already satisfied: branca>=0.3.0 in /usr/local/lib/python3.9/dist-packages (from folium<=0.13.0,>=0.11.0->leafmap) (0.6.0)\n",
            "Requirement already satisfied: requests in /usr/local/lib/python3.9/dist-packages (from folium<=0.13.0,>=0.11.0->leafmap) (2.27.1)\n",
            "Requirement already satisfied: jinja2>=2.9 in /usr/local/lib/python3.9/dist-packages (from folium<=0.13.0,>=0.11.0->leafmap) (3.1.2)\n",
            "Collecting traittypes<3,>=0.2.1\n",
            "  Downloading traittypes-0.2.1-py2.py3-none-any.whl (8.6 kB)\n",
            "Requirement already satisfied: ipython>=4.0.0 in /usr/local/lib/python3.9/dist-packages (from ipywidgets<8.0.0->leafmap) (7.9.0)\n",
            "Requirement already satisfied: widgetsnbextension~=3.6.0 in /usr/local/lib/python3.9/dist-packages (from ipywidgets<8.0.0->leafmap) (3.6.2)\n",
            "Requirement already satisfied: traitlets>=4.3.1 in /usr/local/lib/python3.9/dist-packages (from ipywidgets<8.0.0->leafmap) (5.7.1)\n",
            "Requirement already satisfied: jupyterlab-widgets>=1.0.0 in /usr/local/lib/python3.9/dist-packages (from ipywidgets<8.0.0->leafmap) (3.0.5)\n",
            "Requirement already satisfied: ipython-genutils~=0.2.0 in /usr/local/lib/python3.9/dist-packages (from ipywidgets<8.0.0->leafmap) (0.2.0)\n",
            "Requirement already satisfied: jupyter-client in /usr/local/lib/python3.9/dist-packages (from ipykernel->leafmap) (6.1.12)\n",
            "Requirement already satisfied: tornado>=4.2 in /usr/local/lib/python3.9/dist-packages (from ipykernel->leafmap) (6.2)\n",
            "Collecting whitebox\n",
            "  Downloading whitebox-2.2.0-py2.py3-none-any.whl (79 kB)\n",
            "\u001b[2K     \u001b[90m━━━━━━━━━━━━━━━━━━━━━━━━━━━━━━━━━━━━━━━━\u001b[0m \u001b[32m79.9/79.9 KB\u001b[0m \u001b[31m6.4 MB/s\u001b[0m eta \u001b[36m0:00:00\u001b[0m\n",
            "\u001b[?25hCollecting ipytree\n",
            "  Downloading ipytree-0.2.2-py2.py3-none-any.whl (1.3 MB)\n",
            "\u001b[2K     \u001b[90m━━━━━━━━━━━━━━━━━━━━━━━━━━━━━━━━━━━━━━━━\u001b[0m \u001b[32m1.3/1.3 MB\u001b[0m \u001b[31m40.3 MB/s\u001b[0m eta \u001b[36m0:00:00\u001b[0m\n",
            "\u001b[?25hRequirement already satisfied: python-dateutil>=2.8.1 in /usr/local/lib/python3.9/dist-packages (from pandas->leafmap) (2.8.2)\n",
            "Requirement already satisfied: pytz>=2020.1 in /usr/local/lib/python3.9/dist-packages (from pandas->leafmap) (2022.7.1)\n",
            "Requirement already satisfied: six in /usr/local/lib/python3.9/dist-packages (from gdown->leafmap) (1.16.0)\n",
            "Requirement already satisfied: tqdm in /usr/local/lib/python3.9/dist-packages (from gdown->leafmap) (4.65.0)\n",
            "Requirement already satisfied: beautifulsoup4 in /usr/local/lib/python3.9/dist-packages (from gdown->leafmap) (4.11.2)\n",
            "Requirement already satisfied: filelock in /usr/local/lib/python3.9/dist-packages (from gdown->leafmap) (3.10.0)\n",
            "Requirement already satisfied: packaging>=20.0 in /usr/local/lib/python3.9/dist-packages (from matplotlib->leafmap) (23.0)\n",
            "Requirement already satisfied: fonttools>=4.22.0 in /usr/local/lib/python3.9/dist-packages (from matplotlib->leafmap) (4.39.2)\n",
            "Requirement already satisfied: pillow>=6.2.0 in /usr/local/lib/python3.9/dist-packages (from matplotlib->leafmap) (8.4.0)\n",
            "Requirement already satisfied: contourpy>=1.0.1 in /usr/local/lib/python3.9/dist-packages (from matplotlib->leafmap) (1.0.7)\n",
            "Requirement already satisfied: kiwisolver>=1.0.1 in /usr/local/lib/python3.9/dist-packages (from matplotlib->leafmap) (1.4.4)\n",
            "Requirement already satisfied: pyparsing>=2.3.1 in /usr/local/lib/python3.9/dist-packages (from matplotlib->leafmap) (3.0.9)\n",
            "Requirement already satisfied: cycler>=0.10 in /usr/local/lib/python3.9/dist-packages (from matplotlib->leafmap) (0.11.0)\n",
            "Requirement already satisfied: importlib-resources>=3.2.0 in /usr/local/lib/python3.9/dist-packages (from matplotlib->leafmap) (5.12.0)\n",
            "Collecting pystac>=1.7.0\n",
            "  Downloading pystac-1.7.1-py3-none-any.whl (153 kB)\n",
            "\u001b[2K     \u001b[90m━━━━━━━━━━━━━━━━━━━━━━━━━━━━━━━━━━━━━━\u001b[0m \u001b[32m153.9/153.9 KB\u001b[0m \u001b[31m14.2 MB/s\u001b[0m eta \u001b[36m0:00:00\u001b[0m\n",
            "\u001b[?25hRequirement already satisfied: zipp>=3.1.0 in /usr/local/lib/python3.9/dist-packages (from importlib-resources>=3.2.0->matplotlib->leafmap) (3.15.0)\n",
            "Requirement already satisfied: backcall in /usr/local/lib/python3.9/dist-packages (from ipython>=4.0.0->ipywidgets<8.0.0->leafmap) (0.2.0)\n",
            "Requirement already satisfied: prompt-toolkit<2.1.0,>=2.0.0 in /usr/local/lib/python3.9/dist-packages (from ipython>=4.0.0->ipywidgets<8.0.0->leafmap) (2.0.10)\n",
            "Collecting jedi>=0.10\n",
            "  Downloading jedi-0.18.2-py2.py3-none-any.whl (1.6 MB)\n",
            "\u001b[2K     \u001b[90m━━━━━━━━━━━━━━━━━━━━━━━━━━━━━━━━━━━━━━━━\u001b[0m \u001b[32m1.6/1.6 MB\u001b[0m \u001b[31m58.4 MB/s\u001b[0m eta \u001b[36m0:00:00\u001b[0m\n",
            "\u001b[?25hRequirement already satisfied: setuptools>=18.5 in /usr/local/lib/python3.9/dist-packages (from ipython>=4.0.0->ipywidgets<8.0.0->leafmap) (67.6.0)\n",
            "Requirement already satisfied: decorator in /usr/local/lib/python3.9/dist-packages (from ipython>=4.0.0->ipywidgets<8.0.0->leafmap) (4.4.2)\n",
            "Requirement already satisfied: pexpect in /usr/local/lib/python3.9/dist-packages (from ipython>=4.0.0->ipywidgets<8.0.0->leafmap) (4.8.0)\n",
            "Requirement already satisfied: pickleshare in /usr/local/lib/python3.9/dist-packages (from ipython>=4.0.0->ipywidgets<8.0.0->leafmap) (0.7.5)\n",
            "Requirement already satisfied: pygments in /usr/local/lib/python3.9/dist-packages (from ipython>=4.0.0->ipywidgets<8.0.0->leafmap) (2.6.1)\n",
            "Requirement already satisfied: MarkupSafe>=2.0 in /usr/local/lib/python3.9/dist-packages (from jinja2>=2.9->folium<=0.13.0,>=0.11.0->leafmap) (2.1.2)\n",
            "Requirement already satisfied: certifi>=2017.4.17 in /usr/local/lib/python3.9/dist-packages (from requests->folium<=0.13.0,>=0.11.0->leafmap) (2022.12.7)\n",
            "Requirement already satisfied: idna<4,>=2.5 in /usr/local/lib/python3.9/dist-packages (from requests->folium<=0.13.0,>=0.11.0->leafmap) (3.4)\n",
            "Requirement already satisfied: urllib3<1.27,>=1.21.1 in /usr/local/lib/python3.9/dist-packages (from requests->folium<=0.13.0,>=0.11.0->leafmap) (1.26.15)\n",
            "Requirement already satisfied: charset-normalizer~=2.0.0 in /usr/local/lib/python3.9/dist-packages (from requests->folium<=0.13.0,>=0.11.0->leafmap) (2.0.12)\n",
            "Requirement already satisfied: notebook>=4.4.1 in /usr/local/lib/python3.9/dist-packages (from widgetsnbextension~=3.6.0->ipywidgets<8.0.0->leafmap) (6.3.0)\n",
            "Requirement already satisfied: soupsieve>1.2 in /usr/local/lib/python3.9/dist-packages (from beautifulsoup4->gdown->leafmap) (2.4)\n",
            "Requirement already satisfied: pyzmq>=13 in /usr/local/lib/python3.9/dist-packages (from jupyter-client->ipykernel->leafmap) (23.2.1)\n",
            "Requirement already satisfied: jupyter-core>=4.6.0 in /usr/local/lib/python3.9/dist-packages (from jupyter-client->ipykernel->leafmap) (5.3.0)\n",
            "Requirement already satisfied: PySocks!=1.5.7,>=1.5.6 in /usr/local/lib/python3.9/dist-packages (from requests->folium<=0.13.0,>=0.11.0->leafmap) (1.7.1)\n",
            "Requirement already satisfied: Click>=6.0 in /usr/local/lib/python3.9/dist-packages (from whitebox->whiteboxgui>=0.6.0->leafmap) (8.1.3)\n",
            "Requirement already satisfied: parso<0.9.0,>=0.8.0 in /usr/local/lib/python3.9/dist-packages (from jedi>=0.10->ipython>=4.0.0->ipywidgets<8.0.0->leafmap) (0.8.3)\n",
            "Requirement already satisfied: platformdirs>=2.5 in /usr/local/lib/python3.9/dist-packages (from jupyter-core>=4.6.0->jupyter-client->ipykernel->leafmap) (3.1.1)\n",
            "Requirement already satisfied: terminado>=0.8.3 in /usr/local/lib/python3.9/dist-packages (from notebook>=4.4.1->widgetsnbextension~=3.6.0->ipywidgets<8.0.0->leafmap) (0.17.1)\n",
            "Requirement already satisfied: argon2-cffi in /usr/local/lib/python3.9/dist-packages (from notebook>=4.4.1->widgetsnbextension~=3.6.0->ipywidgets<8.0.0->leafmap) (21.3.0)\n",
            "Requirement already satisfied: nbconvert in /usr/local/lib/python3.9/dist-packages (from notebook>=4.4.1->widgetsnbextension~=3.6.0->ipywidgets<8.0.0->leafmap) (6.5.4)\n",
            "Requirement already satisfied: Send2Trash>=1.5.0 in /usr/local/lib/python3.9/dist-packages (from notebook>=4.4.1->widgetsnbextension~=3.6.0->ipywidgets<8.0.0->leafmap) (1.8.0)\n",
            "Requirement already satisfied: nbformat in /usr/local/lib/python3.9/dist-packages (from notebook>=4.4.1->widgetsnbextension~=3.6.0->ipywidgets<8.0.0->leafmap) (5.8.0)\n",
            "Requirement already satisfied: prometheus-client in /usr/local/lib/python3.9/dist-packages (from notebook>=4.4.1->widgetsnbextension~=3.6.0->ipywidgets<8.0.0->leafmap) (0.16.0)\n",
            "Requirement already satisfied: wcwidth in /usr/local/lib/python3.9/dist-packages (from prompt-toolkit<2.1.0,>=2.0.0->ipython>=4.0.0->ipywidgets<8.0.0->leafmap) (0.2.6)\n",
            "Requirement already satisfied: ptyprocess>=0.5 in /usr/local/lib/python3.9/dist-packages (from pexpect->ipython>=4.0.0->ipywidgets<8.0.0->leafmap) (0.7.0)\n",
            "Requirement already satisfied: argon2-cffi-bindings in /usr/local/lib/python3.9/dist-packages (from argon2-cffi->notebook>=4.4.1->widgetsnbextension~=3.6.0->ipywidgets<8.0.0->leafmap) (21.2.0)\n",
            "Requirement already satisfied: bleach in /usr/local/lib/python3.9/dist-packages (from nbconvert->notebook>=4.4.1->widgetsnbextension~=3.6.0->ipywidgets<8.0.0->leafmap) (6.0.0)\n",
            "Requirement already satisfied: nbclient>=0.5.0 in /usr/local/lib/python3.9/dist-packages (from nbconvert->notebook>=4.4.1->widgetsnbextension~=3.6.0->ipywidgets<8.0.0->leafmap) (0.7.2)\n",
            "Requirement already satisfied: defusedxml in /usr/local/lib/python3.9/dist-packages (from nbconvert->notebook>=4.4.1->widgetsnbextension~=3.6.0->ipywidgets<8.0.0->leafmap) (0.7.1)\n",
            "Requirement already satisfied: lxml in /usr/local/lib/python3.9/dist-packages (from nbconvert->notebook>=4.4.1->widgetsnbextension~=3.6.0->ipywidgets<8.0.0->leafmap) (4.9.2)\n",
            "Requirement already satisfied: entrypoints>=0.2.2 in /usr/local/lib/python3.9/dist-packages (from nbconvert->notebook>=4.4.1->widgetsnbextension~=3.6.0->ipywidgets<8.0.0->leafmap) (0.4)\n",
            "Requirement already satisfied: pandocfilters>=1.4.1 in /usr/local/lib/python3.9/dist-packages (from nbconvert->notebook>=4.4.1->widgetsnbextension~=3.6.0->ipywidgets<8.0.0->leafmap) (1.5.0)\n",
            "Requirement already satisfied: tinycss2 in /usr/local/lib/python3.9/dist-packages (from nbconvert->notebook>=4.4.1->widgetsnbextension~=3.6.0->ipywidgets<8.0.0->leafmap) (1.2.1)\n",
            "Requirement already satisfied: jupyterlab-pygments in /usr/local/lib/python3.9/dist-packages (from nbconvert->notebook>=4.4.1->widgetsnbextension~=3.6.0->ipywidgets<8.0.0->leafmap) (0.2.2)\n",
            "Requirement already satisfied: mistune<2,>=0.8.1 in /usr/local/lib/python3.9/dist-packages (from nbconvert->notebook>=4.4.1->widgetsnbextension~=3.6.0->ipywidgets<8.0.0->leafmap) (0.8.4)\n",
            "Requirement already satisfied: jsonschema>=2.6 in /usr/local/lib/python3.9/dist-packages (from nbformat->notebook>=4.4.1->widgetsnbextension~=3.6.0->ipywidgets<8.0.0->leafmap) (4.3.3)\n",
            "Requirement already satisfied: fastjsonschema in /usr/local/lib/python3.9/dist-packages (from nbformat->notebook>=4.4.1->widgetsnbextension~=3.6.0->ipywidgets<8.0.0->leafmap) (2.16.3)\n",
            "Requirement already satisfied: pyrsistent!=0.17.0,!=0.17.1,!=0.17.2,>=0.14.0 in /usr/local/lib/python3.9/dist-packages (from jsonschema>=2.6->nbformat->notebook>=4.4.1->widgetsnbextension~=3.6.0->ipywidgets<8.0.0->leafmap) (0.19.3)\n",
            "Requirement already satisfied: attrs>=17.4.0 in /usr/local/lib/python3.9/dist-packages (from jsonschema>=2.6->nbformat->notebook>=4.4.1->widgetsnbextension~=3.6.0->ipywidgets<8.0.0->leafmap) (22.2.0)\n",
            "Requirement already satisfied: cffi>=1.0.1 in /usr/local/lib/python3.9/dist-packages (from argon2-cffi-bindings->argon2-cffi->notebook>=4.4.1->widgetsnbextension~=3.6.0->ipywidgets<8.0.0->leafmap) (1.15.1)\n",
            "Requirement already satisfied: webencodings in /usr/local/lib/python3.9/dist-packages (from bleach->nbconvert->notebook>=4.4.1->widgetsnbextension~=3.6.0->ipywidgets<8.0.0->leafmap) (0.5.1)\n",
            "Requirement already satisfied: pycparser in /usr/local/lib/python3.9/dist-packages (from cffi>=1.0.1->argon2-cffi-bindings->argon2-cffi->notebook>=4.4.1->widgetsnbextension~=3.6.0->ipywidgets<8.0.0->leafmap) (2.21)\n",
            "Installing collected packages: colour, xyzservices, whitebox, traittypes, scooby, python-box, pyshp, jedi, geojson, pystac, pystac-client, folium, ipytree, ipyleaflet, ipyfilechooser, ipyevents, bqplot, whiteboxgui, leafmap\n",
            "  Attempting uninstall: folium\n",
            "    Found existing installation: folium 0.14.0\n",
            "    Uninstalling folium-0.14.0:\n",
            "      Successfully uninstalled folium-0.14.0\n",
            "Successfully installed bqplot-0.12.36 colour-0.1.5 folium-0.13.0 geojson-3.0.1 ipyevents-2.0.1 ipyfilechooser-0.6.0 ipyleaflet-0.17.2 ipytree-0.2.2 jedi-0.18.2 leafmap-0.18.6 pyshp-2.3.1 pystac-1.7.1 pystac-client-0.6.1 python-box-7.0.1 scooby-0.7.1 traittypes-0.2.1 whitebox-2.2.0 whiteboxgui-2.2.0 xyzservices-2023.2.0\n"
          ]
        }
      ],
      "source": [
        "pip install leafmap"
      ]
    },
    {
      "cell_type": "code",
      "execution_count": 21,
      "id": "c76827f5",
      "metadata": {
        "id": "c76827f5",
        "outputId": "ef639d46-7570-41e3-c9e2-eb0ba75ed514",
        "colab": {
          "base_uri": "https://localhost:8080/",
          "height": 191
        }
      },
      "outputs": [
        {
          "output_type": "stream",
          "name": "stdout",
          "text": [
            "A-Tale-of-Two-Cities.txt already exists. Skip downloading. Set overwrite=True to overwrite.\n"
          ]
        },
        {
          "output_type": "stream",
          "name": "stderr",
          "text": [
            "Downloading...\n",
            "From: https://raw.githubusercontent.com/giswqs/geosdemo/master/docs/python/data/little_women.txt\n",
            "To: /content/little_women.txt\n",
            "1.05MB [00:00, 19.5MB/s]                  \n",
            "Downloading...\n",
            "From: https://raw.githubusercontent.com/giswqs/geosdemo/master/docs/python/data/alice.txt\n",
            "To: /content/alice.txt\n",
            "170kB [00:00, 34.9MB/s]                    \n"
          ]
        },
        {
          "output_type": "execute_result",
          "data": {
            "text/plain": [
              "'/content/alice.txt'"
            ],
            "application/vnd.google.colaboratory.intrinsic+json": {
              "type": "string"
            }
          },
          "metadata": {},
          "execution_count": 21
        }
      ],
      "source": [
        "import leafmap\n",
        "leafmap.download_file(\"https://raw.githubusercontent.com/giswqs/geosdemo/master/docs/python/data/A-Tale-of-Two-Cities.txt\")\n",
        "leafmap.download_file(\"https://raw.githubusercontent.com/giswqs/geosdemo/master/docs/python/data/little_women.txt\")\n",
        "leafmap.download_file(\"https://raw.githubusercontent.com/giswqs/geosdemo/master/docs/python/data/alice.txt\")"
      ]
    },
    {
      "cell_type": "code",
      "execution_count": 29,
      "id": "89639284",
      "metadata": {
        "id": "89639284",
        "outputId": "d798e629-d33e-45e4-ad1c-dea406efd536",
        "colab": {
          "base_uri": "https://localhost:8080/"
        }
      },
      "outputs": [
        {
          "output_type": "stream",
          "name": "stdout",
          "text": [
            "Choose from the txt files in the list A-Tale-of-Two-Cities.txt, little_women.txt, and alice.txt. Type the name and the program will return the number of uniwue words in the file. \n",
            "little_women.txt\n",
            "76\n",
            "['\\ufeff', 'T', 'h', 'e', ' ', 'P', 'r', 'o', 'j', 'c', 't', 'G', 'u', 'n', 'b', 'g', 'k', 'f', 'L', 'i', 'l', 'W', 'm', ',', 'y', 's', 'a', '\\n', 'w', 'd', 'v', '.', 'p', '-', ':', '1', '3', '2', '0', '8', '[', '#', '5', '4', ']', '9', '6', '*', 'X', \"'\", 'X', 'X', 'Q', 'X', 'X', 'Q', 'X', 'Z', 'X', '\"', '!', ';', 'x', '_', '?', 'q', 'z', '(', ')', '7', '$', 'à', '&', '/', '%', '@']\n"
          ]
        }
      ],
      "source": [
        "f = input(\"Choose from the txt files in the list A-Tale-of-Two-Cities.txt, little_women.txt, and alice.txt. Type the name and the program will return the number of uniwue words in the file. \\n\")\n",
        "count = 0\n",
        "words_list = []\n",
        "try:\n",
        "  with open(f) as file_object:\n",
        "    r = file_object.read()\n",
        "    \n",
        "    for i in r:\n",
        "      if(words_list.count(i.lower())==0):\n",
        "         words_list.append(i)\n",
        "\n",
        "\n",
        "except:\n",
        "  print(\"File not found, please enter a valid filename.\")\n",
        "\n",
        "\n",
        "print(len(words_list))\n",
        "print(words_list)\n"
      ]
    }
  ],
  "metadata": {
    "kernelspec": {
      "display_name": "Python 3 (ipykernel)",
      "language": "python",
      "name": "python3"
    },
    "language_info": {
      "codemirror_mode": {
        "name": "ipython",
        "version": 3
      },
      "file_extension": ".py",
      "mimetype": "text/x-python",
      "name": "python",
      "nbconvert_exporter": "python",
      "pygments_lexer": "ipython3",
      "version": "3.10.8"
    },
    "colab": {
      "provenance": [],
      "include_colab_link": true
    }
  },
  "nbformat": 4,
  "nbformat_minor": 5
}